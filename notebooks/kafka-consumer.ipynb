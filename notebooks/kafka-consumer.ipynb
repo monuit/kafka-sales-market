{
 "cells": [
  {
   "cell_type": "code",
   "execution_count": 1,
   "metadata": {},
   "outputs": [],
   "source": [
    "import pandas as pd \n",
    "from kafka import KafkaConsumer\n",
    "from time import sleep \n",
    "from json import dumps, loads\n",
    "from s3fs import S3FileSystem\n",
    "import json "
   ]
  },
  {
   "cell_type": "code",
   "execution_count": 2,
   "metadata": {},
   "outputs": [],
   "source": [
    "consumer = KafkaConsumer(\n",
    "    \"demo_testing2\",\n",
    "    bootstrap_servers=['<Your_EC2_public_ip_adress>:9092'],\n",
    "    value_deserializer=lambda x: loads(x.decode('utf-8'))\n",
    ")"
   ]
  },
  {
   "cell_type": "code",
   "execution_count": null,
   "metadata": {},
   "outputs": [],
   "source": [
    "def store_data_to_s3(bucket_name, topic, AWS_ACCESS_KEY_ID, AWS_SECRET_ACCESS_KEY):\n",
    "    \n",
    "    s3 = S3FileSystem(\n",
    "        key = AWS_ACCESS_KEY_ID, \n",
    "        secret = AWS_SECRET_ACCESS_KEY\n",
    "    )\n",
    "\n",
    "    for count , i in enumerate(consumer):\n",
    "        filename = \"stock_market_{}.json\".format(count)\n",
    "\n",
    "        message_val_str = str(i.value).replace(\"'\", '\"')\n",
    "        message_val = json.loads(message_val_str)\n",
    "\n",
    "        with s3.open(\"{}/{}\".format(bucket_name, filename), 'w') as file:\n",
    "            json.dump(message_val, file)\n",
    "\n",
    "if __name__ ==\"__main__\":\n",
    "\n",
    "    AWS_ACCESS_KEY_ID = \"<Your-AWS-ACCESS-KEY-ID>\"\n",
    "    AWS_SECRET_ACCESS_KEY = \"<YOur-AWS-SECRET-ACESS-KEY>\"\n",
    "    s3_bucket_name = \"<Your-S3-bucket-name>\"\n",
    "\n",
    "    store_data_to_s3(s3_bucket_name,consumer ,AWS_ACCESS_KEY_ID , AWS_SECRET_ACCESS_KEY)"
   ]
  }
 ],
 "metadata": {
  "kernelspec": {
   "display_name": "Python 3",
   "language": "python",
   "name": "python3"
  },
  "language_info": {
   "codemirror_mode": {
    "name": "ipython",
    "version": 3
   },
   "file_extension": ".py",
   "mimetype": "text/x-python",
   "name": "python",
   "nbconvert_exporter": "python",
   "pygments_lexer": "ipython3",
   "version": "3.10.8"
  },
  "orig_nbformat": 4
 },
 "nbformat": 4,
 "nbformat_minor": 2
}
